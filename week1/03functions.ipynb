{
   "nbformat_minor" : 0,
   "metadata" : {
      "org" : null,
      "language_info" : {
         "name" : "python",
         "pygments_lexer" : "ipython3",
         "mimetype" : "text/x-python",
         "nbconvert_exporter" : "python",
         "version" : "3.5.2",
         "file_extension" : ".py",
         "codemirror_mode" : {
            "name" : "ipython",
            "version" : 3
         }
      },
      "kernelspec" : {
         "name" : "python3",
         "display_name" : "Python 3",
         "language" : "python"
      }
   },
   "nbformat" : 4,
   "cells" : [
      {
         "metadata" : {},
         "cell_type" : "markdown",
         "source" : [
            "&ldquo;Programming&rdquo; involves breaking down complicated problems into\nsimplier pieces.  &ldquo;Functions&rdquo; are one way of managing that complexity\nby introducing some abstraction.\n\n"
         ]
      },
      {
         "metadata" : {},
         "source" : [
            "## Building your own functions\n\n"
         ],
         "cell_type" : "markdown"
      },
      {
         "metadata" : {},
         "cell_type" : "markdown",
         "source" : [
            "Use `def` to define a function, and call the function by appending `()` to its name.\n\n"
         ]
      },
      {
         "cell_type" : "code",
         "outputs" : [],
         "source" : [
            "def greet():\n    print('Hello, world!')\n\ngreet()"
         ],
         "metadata" : {},
         "execution_count" : 1
      },
      {
         "cell_type" : "markdown",
         "source" : [
            "## Arguments\n\n"
         ],
         "metadata" : {}
      },
      {
         "source" : [
            "Your functions can take arguments.\n\n"
         ],
         "cell_type" : "markdown",
         "metadata" : {}
      },
      {
         "cell_type" : "code",
         "outputs" : [],
         "source" : [
            "def add_them(a, b):\n    print(a,'plus',b,'is',a+b)\n\nadd_them(5,12)"
         ],
         "metadata" : {},
         "execution_count" : 1
      },
      {
         "source" : [
            "## Documentation\n\n"
         ],
         "cell_type" : "markdown",
         "metadata" : {}
      },
      {
         "metadata" : {},
         "source" : [
            "The audience for the code you write is not only the machine, but\nultimately other people and your future self.  Some amount of\ndocumentation is valuable in this regard, and &ldquo;docstrings&rdquo; can be nice\nto make some &ldquo;help&rdquo; available for the new functions you define.\n\n"
         ],
         "cell_type" : "markdown"
      },
      {
         "execution_count" : 1,
         "outputs" : [],
         "cell_type" : "code",
         "source" : [
            "def distance(a, b):\n    \"\"\"Determine the distance |a-b| between points a and b on the real line\"\"\"\n    return abs(a-b)\n\nprint(help(distance))"
         ],
         "metadata" : {}
      },
      {
         "metadata" : {},
         "cell_type" : "markdown",
         "source" : [
            "## Return values\n\n"
         ]
      },
      {
         "cell_type" : "markdown",
         "source" : [
            "If we were thinking mathematically, a &ldquo;function&rdquo; ought to mean a\nrelationship between input and output.  We use `return` for this.\n\n"
         ],
         "metadata" : {}
      },
      {
         "source" : [
            "def f(x):\n    x = x + 1\n    return x*x\n\nf(5)"
         ],
         "cell_type" : "code",
         "outputs" : [],
         "metadata" : {},
         "execution_count" : 1
      }
   ]
}
