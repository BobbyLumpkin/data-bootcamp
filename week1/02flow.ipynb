{
   "metadata" : {
      "org" : null,
      "language_info" : {
         "mimetype" : "text/x-python",
         "codemirror_mode" : {
            "version" : 3,
            "name" : "ipython"
         },
         "version" : "3.5.2",
         "nbconvert_exporter" : "python",
         "file_extension" : ".py",
         "name" : "python",
         "pygments_lexer" : "ipython3"
      },
      "kernelspec" : {
         "display_name" : "Python 3",
         "name" : "python3",
         "language" : "python"
      }
   },
   "nbformat_minor" : 0,
   "cells" : [
      {
         "cell_type" : "markdown",
         "metadata" : {},
         "source" : [
            "In this lesson, we meet some *flow control*, meaning conditionals\n(&ldquo;if-then&rdquo;) and loops (&ldquo;for&rdquo; and &ldquo;while&rdquo;).  Perhaps the biggest\nchallenge for newcomers to Python is *semantic whitespace* meaning\nthat the indentation in Python is meaningful.\n\n"
         ]
      },
      {
         "metadata" : {},
         "cell_type" : "markdown",
         "source" : [
            "## Booleans\n\n"
         ]
      },
      {
         "execution_count" : 1,
         "source" : [
            "type(True)"
         ],
         "cell_type" : "code",
         "metadata" : {},
         "outputs" : []
      },
      {
         "source" : [
            "### Numeric comparison\n\n"
         ],
         "metadata" : {},
         "cell_type" : "markdown"
      },
      {
         "source" : [
            "The &ldquo;not equal&rdquo; `!=` looks a bit like a slash through an equal sign.\n\n"
         ],
         "metadata" : {},
         "cell_type" : "markdown"
      },
      {
         "source" : [
            "1 != 0"
         ],
         "cell_type" : "code",
         "metadata" : {},
         "outputs" : [],
         "execution_count" : 1
      },
      {
         "cell_type" : "markdown",
         "metadata" : {},
         "source" : [
            "For greater-than-or-equal-to, the &ldquo;equal&rdquo; comes after the\n&ldquo;greater-than&rdquo; sign.\n\n"
         ]
      },
      {
         "metadata" : {},
         "cell_type" : "code",
         "source" : [
            "1 >= 0"
         ],
         "outputs" : [],
         "execution_count" : 1
      },
      {
         "metadata" : {},
         "cell_type" : "markdown",
         "source" : [
            "You can include multiple inequalities.\n\n"
         ]
      },
      {
         "source" : [
            "1 <= 2 <= 3"
         ],
         "cell_type" : "code",
         "metadata" : {},
         "outputs" : [],
         "execution_count" : 1
      },
      {
         "metadata" : {},
         "cell_type" : "markdown",
         "source" : [
            "### Lists\n\n"
         ]
      },
      {
         "cell_type" : "markdown",
         "metadata" : {},
         "source" : [
            "You can check if a value appears in a list.\n\n"
         ]
      },
      {
         "outputs" : [],
         "source" : [
            "4 in [0,2,4,6,8]"
         ],
         "metadata" : {},
         "cell_type" : "code",
         "execution_count" : 1
      },
      {
         "cell_type" : "markdown",
         "metadata" : {},
         "source" : [
            "### Boolean algebra\n\n"
         ]
      },
      {
         "source" : [
            "Instead of puncuation as in other languages, in Python write `and` and `or` and `not` for the operations on booleans.\n\n"
         ],
         "cell_type" : "markdown",
         "metadata" : {}
      },
      {
         "outputs" : [],
         "metadata" : {},
         "cell_type" : "code",
         "source" : [
            "True and False"
         ],
         "execution_count" : 1
      },
      {
         "execution_count" : 1,
         "outputs" : [],
         "source" : [
            "True or False"
         ],
         "metadata" : {},
         "cell_type" : "code"
      },
      {
         "outputs" : [],
         "source" : [
            "not False"
         ],
         "cell_type" : "code",
         "metadata" : {},
         "execution_count" : 1
      },
      {
         "source" : [
            "## Conditionals\n\n"
         ],
         "metadata" : {},
         "cell_type" : "markdown"
      },
      {
         "cell_type" : "markdown",
         "metadata" : {},
         "source" : [
            "We now use conditionals in &ldquo;if-then&rdquo; statements.  Note that there is a\ncolon `:` at the end of the &ldquo;if&rdquo; and the code underneath is indented.\n\n"
         ]
      },
      {
         "source" : [
            "if 1 > 0:\n    print('one is bigger')"
         ],
         "cell_type" : "code",
         "metadata" : {},
         "outputs" : [],
         "execution_count" : 1
      },
      {
         "cell_type" : "markdown",
         "metadata" : {},
         "source" : [
            "To get a feeling for the meaning of indentation, compare the output of the following two cells.\n\n"
         ]
      },
      {
         "outputs" : [],
         "metadata" : {},
         "cell_type" : "code",
         "source" : [
            "if 1 > 0:\n    print('one is bigger')\nprint('more printing')"
         ],
         "execution_count" : 1
      },
      {
         "execution_count" : 1,
         "outputs" : [],
         "source" : [
            "if 1 > 0:\n    print('one is bigger')\n    print('more printing')"
         ],
         "metadata" : {},
         "cell_type" : "code"
      },
      {
         "source" : [
            "## Loops\n\n"
         ],
         "cell_type" : "markdown",
         "metadata" : {}
      },
      {
         "source" : [
            "You can do something for each entry in a list by using a `for` loop.\n\n"
         ],
         "metadata" : {},
         "cell_type" : "markdown"
      },
      {
         "execution_count" : 1,
         "cell_type" : "code",
         "metadata" : {},
         "source" : [
            "for i in [1,2,3,4,5]:\n    print(2*i)"
         ],
         "outputs" : []
      },
      {
         "cell_type" : "markdown",
         "metadata" : {},
         "source" : [
            "Instead of building lists by naming each of the entries, try `range`.\n\n"
         ]
      },
      {
         "execution_count" : 1,
         "source" : [
            "for i in range(5):\n    print(2*i)"
         ],
         "metadata" : {},
         "cell_type" : "code",
         "outputs" : []
      },
      {
         "source" : [
            "Do you have a sense of the result of `range(5)`?  Is it the numbers 1\nthrough 5?  0 through 4?  Try `range(1,5)` and `range(1,6)`.  What if\nyou use three parameters to `range` as follows?\n\n"
         ],
         "cell_type" : "markdown",
         "metadata" : {}
      },
      {
         "outputs" : [],
         "source" : [
            "for i in range(5,20,2):\n    print(i)"
         ],
         "metadata" : {},
         "cell_type" : "code",
         "execution_count" : 1
      },
      {
         "source" : [
            "### While\n\n"
         ],
         "metadata" : {},
         "cell_type" : "markdown"
      },
      {
         "cell_type" : "markdown",
         "metadata" : {},
         "source" : [
            "A `while` loop repeats &ldquo;while&rdquo; the condition holds.\n\n"
         ]
      },
      {
         "outputs" : [],
         "source" : [
            "xs = [1,2,3,4]\nwhile len(xs) > 0:\n    xs.remove( xs[0] )\n    print(xs)"
         ],
         "metadata" : {},
         "cell_type" : "code",
         "execution_count" : 1
      },
      {
         "metadata" : {},
         "cell_type" : "markdown",
         "source" : [
            "### Break and continue\n\n"
         ]
      },
      {
         "cell_type" : "markdown",
         "metadata" : {},
         "source" : [
            "With `break` you can escape from a loop earlier than you normally would.\n\n"
         ]
      },
      {
         "execution_count" : 1,
         "outputs" : [],
         "cell_type" : "code",
         "metadata" : {},
         "source" : [
            "for i in range(100):\n    if i == 5:\n        break\n    print(i)"
         ]
      },
      {
         "cell_type" : "markdown",
         "metadata" : {},
         "source" : [
            "With `continue` you can restart a loop early.\n\n"
         ]
      },
      {
         "outputs" : [],
         "metadata" : {},
         "cell_type" : "code",
         "source" : [
            "for i in range(10):\n    print(\"first\",i)\n    if i > 3:\n        continue\n    print(\"and\",i)"
         ],
         "execution_count" : 1
      }
   ],
   "nbformat" : 4
}
