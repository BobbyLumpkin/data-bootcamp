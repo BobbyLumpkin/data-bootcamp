{
   "nbformat" : 4,
   "nbformat_minor" : 0,
   "metadata" : {
      "org" : null,
      "language_info" : {
         "codemirror_mode" : {
            "name" : "ipython",
            "version" : 3
         },
         "pygments_lexer" : "ipython3",
         "name" : "python",
         "nbconvert_exporter" : "python",
         "file_extension" : ".py",
         "version" : "3.5.2",
         "mimetype" : "text/x-python"
      },
      "kernelspec" : {
         "language" : "python",
         "name" : "python3",
         "display_name" : "Python 3"
      }
   },
   "cells" : [
      {
         "source" : [
            "We&rsquo;ve already met numbers, strings, and lists, but Python provides\nother basic data types such as the *dictionary* which, in other\nlanguages, might be named an associative array.  Python dictionaries\nassociate *values* (either mutable or immutable) to keys (which must\nbe immutable).\n\n"
         ],
         "cell_type" : "markdown",
         "metadata" : {}
      },
      {
         "cell_type" : "markdown",
         "source" : [
            "## Creating dictionaries\n\n"
         ],
         "metadata" : {}
      },
      {
         "metadata" : {},
         "outputs" : [],
         "source" : [
            "{'cat': 17, 'dog': -15, 'turtle': 0}"
         ],
         "cell_type" : "code",
         "execution_count" : 1
      },
      {
         "cell_type" : "markdown",
         "source" : [
            "There is the empty list `[]` and likewise the empty dictionary `{}`.\n\n"
         ],
         "metadata" : {}
      },
      {
         "metadata" : {},
         "outputs" : [],
         "cell_type" : "code",
         "source" : [
            "empty = {}"
         ],
         "execution_count" : 1
      },
      {
         "source" : [
            "## Operations on dictionaries\n\n"
         ],
         "cell_type" : "markdown",
         "metadata" : {}
      },
      {
         "source" : [
            "You can look-up values associated to a given key.\n\n"
         ],
         "cell_type" : "markdown",
         "metadata" : {}
      },
      {
         "cell_type" : "code",
         "source" : [
            "d = {'cat': 17, 'dog': -15, 'turtle': 0}\nd['turtle']"
         ],
         "execution_count" : 1,
         "metadata" : {},
         "outputs" : []
      },
      {
         "cell_type" : "markdown",
         "source" : [
            "What happens if you try to access a missing key?\n\n"
         ],
         "metadata" : {}
      },
      {
         "source" : [
            "d = {'cat': 17, 'dog': -15, 'turtle': 0}\nprint(d['purple'])"
         ],
         "cell_type" : "code",
         "execution_count" : 1,
         "metadata" : {},
         "outputs" : []
      },
      {
         "source" : [
            "Contrast that with the result of using `get`.\n\n"
         ],
         "cell_type" : "markdown",
         "metadata" : {}
      },
      {
         "metadata" : {},
         "outputs" : [],
         "source" : [
            "d = {'cat': 17, 'dog': -15, 'turtle': 0}\nprint(d.get('purple'))"
         ],
         "cell_type" : "code",
         "execution_count" : 1
      },
      {
         "cell_type" : "markdown",
         "source" : [
            "In what cases would you prefer `get`?\n\nDictionaries are mutable.\n\n"
         ],
         "metadata" : {}
      },
      {
         "execution_count" : 1,
         "cell_type" : "code",
         "source" : [
            "d = {'cat': 17, 'dog': -15, 'turtle': 0, 'fish': 100}\nprint(d['cat'])\nd['cat'] = 1000\nprint(d)"
         ],
         "outputs" : [],
         "metadata" : {}
      },
      {
         "metadata" : {},
         "cell_type" : "markdown",
         "source" : [
            "You can remove items.\n\n"
         ]
      },
      {
         "metadata" : {},
         "outputs" : [],
         "source" : [
            "del d['fish']\nd"
         ],
         "cell_type" : "code",
         "execution_count" : 1
      },
      {
         "metadata" : {},
         "source" : [
            "Can you describe when two dictionaries are equal?\n\n"
         ],
         "cell_type" : "markdown"
      },
      {
         "metadata" : {},
         "outputs" : [],
         "source" : [
            "e = {}\ne['cat'] = 1000\ne['dog'] = -15\ne['turtle'] = 0\ne == d"
         ],
         "cell_type" : "code",
         "execution_count" : 1
      },
      {
         "metadata" : {},
         "cell_type" : "markdown",
         "source" : [
            "## Some methods\n\n"
         ]
      },
      {
         "metadata" : {},
         "source" : [
            "What happens when you call the `keys` method on a dictionary?  Why do I wrap this in `list`?\n\n"
         ],
         "cell_type" : "markdown"
      },
      {
         "metadata" : {},
         "outputs" : [],
         "source" : [
            "list(d.keys())"
         ],
         "cell_type" : "code",
         "execution_count" : 1
      },
      {
         "cell_type" : "code",
         "source" : [
            "list(d.values())"
         ],
         "execution_count" : 1,
         "metadata" : {},
         "outputs" : []
      },
      {
         "metadata" : {},
         "outputs" : [],
         "cell_type" : "code",
         "source" : [
            "list(d.items())"
         ],
         "execution_count" : 1
      },
      {
         "metadata" : {},
         "source" : [
            "We met `get` earlier, but there is more to `get`.  For instance, there\nis a facility for including default values instead of `None`.\n\n"
         ],
         "cell_type" : "markdown"
      },
      {
         "execution_count" : 1,
         "cell_type" : "code",
         "source" : [
            "d = {'cat': 17, 'dog': -15, 'turtle': 0}\nprint(d.get('cat',-1))\nprint(d.get('purple',-1))"
         ],
         "outputs" : [],
         "metadata" : {}
      },
      {
         "metadata" : {},
         "source" : [
            "There is also `pop`.\n\n"
         ],
         "cell_type" : "markdown"
      },
      {
         "source" : [
            "d = {'cat': 17, 'dog': -15, 'turtle': 0}\nprint(d)\nprint(d.pop('cat'))\nprint(d)"
         ],
         "cell_type" : "code",
         "execution_count" : 1,
         "metadata" : {},
         "outputs" : []
      },
      {
         "metadata" : {},
         "source" : [
            "Finally, you can merge two dictionaries with `update`.\n\n"
         ],
         "cell_type" : "markdown"
      },
      {
         "execution_count" : 1,
         "source" : [
            "d1 = {'cat': 17, 'dog': -15, 'turtle': 0}\nd2 = {'cow': 1, 'sheep': 16}\nprint(d1,d2)\nd1.update(d2)\nprint(d1,d2)"
         ],
         "cell_type" : "code",
         "outputs" : [],
         "metadata" : {}
      }
   ]
}
