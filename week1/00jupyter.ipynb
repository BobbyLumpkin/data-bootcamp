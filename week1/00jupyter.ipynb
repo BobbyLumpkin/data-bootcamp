{
   "nbformat" : 4,
   "cells" : [
      {
         "cell_type" : "markdown",
         "source" : [
            "## Using Jupyter Notebooks\n\n"
         ],
         "metadata" : {}
      },
      {
         "metadata" : {},
         "source" : [
            "To evaluate a cell, highlight the cell and press Shift+Enter.\n\nTo create a new cell, hit the + button in the toolbar above.\n\nTo create a cell for writing (as opposed to code) such as this one,\nhighlight the cell and switch its type to Markdown in the dropdown\nmenu above.\n\n"
         ],
         "cell_type" : "markdown"
      },
      {
         "cell_type" : "markdown",
         "metadata" : {},
         "source" : [
            "### Some useful shortcuts\n\n"
         ]
      },
      {
         "cell_type" : "markdown",
         "source" : [
            "In a cell, type esc, m, enter to go into change a cell to Markdown.\n\nClick to the left of a cell to enter Command Mode. In Command Mode, type:\n\n-   **a** to add cell above\n-   **b** to add cell below\n-   \\*d\\*to delete the cell\n\nOther useful shortcuts can be found [here]([http://maxmelnick.com/2016/04/19/python-beginner-tips-and-tricks.html](http://maxmelnick.com/2016/04/19/python-beginner-tips-and-tricks.html)).\n\n"
         ],
         "metadata" : {}
      },
      {
         "cell_type" : "markdown",
         "source" : [
            "## Try it!\n\n"
         ],
         "metadata" : {}
      },
      {
         "source" : [
            "Try executing this cell.\n\n"
         ],
         "metadata" : {},
         "cell_type" : "markdown"
      },
      {
         "metadata" : {},
         "source" : [
            "print('Hello, world.')"
         ],
         "outputs" : [],
         "execution_count" : 1,
         "cell_type" : "code"
      },
      {
         "cell_type" : "markdown",
         "source" : [
            "Note that text after `#` is treated as a **comment**.\n\n"
         ],
         "metadata" : {}
      },
      {
         "cell_type" : "code",
         "metadata" : {},
         "source" : [
            "# Share our standard greeting\nprint('Hello, world.')"
         ],
         "outputs" : [],
         "execution_count" : 1
      }
   ],
   "nbformat_minor" : 0,
   "metadata" : {
      "kernelspec" : {
         "display_name" : "Python 3",
         "name" : "python3",
         "language" : "python"
      },
      "language_info" : {
         "nbconvert_exporter" : "python",
         "pygments_lexer" : "ipython3",
         "file_extension" : ".py",
         "codemirror_mode" : {
            "version" : 3,
            "name" : "ipython"
         },
         "mimetype" : "text/x-python",
         "name" : "python",
         "version" : "3.5.2"
      },
      "org" : null
   }
}
