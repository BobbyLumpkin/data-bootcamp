{
   "nbformat_minor" : 0,
   "cells" : [
      {
         "source" : [
            "## Using Jupyter Notebooks\n\n"
         ],
         "metadata" : {},
         "cell_type" : "markdown"
      },
      {
         "cell_type" : "markdown",
         "metadata" : {},
         "source" : [
            "To evaluate a cell, highlight the cell and press Shift+Enter.\n\nTo create a new cell, hit the + button in the toolbar above.\n\nTo create a cell for writing (as opposed to code) such as this one,\nhighlight the cell and switch its type to Markdown in the dropdown\nmenu above.\n\n"
         ]
      },
      {
         "cell_type" : "markdown",
         "metadata" : {},
         "source" : [
            "### Some useful shortcuts\n\n"
         ]
      },
      {
         "source" : [
            "In a cell, type esc, m, enter to go into change a cell to Markdown.\n\nClick to the left of a cell to enter Command Mode. In Command Mode, type:\n\n-   **a** to add cell above\n-   **b** to add cell below\n\nOther useful shortcuts can be found [here]([http://maxmelnick.com/2016/04/19/python-beginner-tips-and-tricks.html](http://maxmelnick.com/2016/04/19/python-beginner-tips-and-tricks.html)).\n\n"
         ],
         "cell_type" : "markdown",
         "metadata" : {}
      },
      {
         "cell_type" : "markdown",
         "metadata" : {},
         "source" : [
            "## Try it!\n\n"
         ]
      },
      {
         "cell_type" : "markdown",
         "metadata" : {},
         "source" : [
            "Try executing this cell.\n\n"
         ]
      },
      {
         "source" : [
            "print('Hello, world.')"
         ],
         "execution_count" : 1,
         "cell_type" : "code",
         "metadata" : {},
         "outputs" : []
      },
      {
         "source" : [
            "Note that text after `#` is treated as a **comment**.\n\n"
         ],
         "metadata" : {},
         "cell_type" : "markdown"
      },
      {
         "source" : [
            "# Share our standard greeting\nprint('Hello, world.')"
         ],
         "outputs" : [],
         "metadata" : {},
         "cell_type" : "code",
         "execution_count" : 1
      }
   ],
   "metadata" : {
      "kernelspec" : {
         "display_name" : "Python 3",
         "language" : "python",
         "name" : "python3"
      },
      "language_info" : {
         "version" : "3.5.2",
         "nbconvert_exporter" : "python",
         "file_extension" : ".py",
         "codemirror_mode" : {
            "version" : 3,
            "name" : "ipython"
         },
         "mimetype" : "text/x-python",
         "pygments_lexer" : "ipython3",
         "name" : "python"
      },
      "org" : null
   },
   "nbformat" : 4
}
