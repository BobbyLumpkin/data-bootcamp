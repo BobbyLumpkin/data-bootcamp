{
   "nbformat" : 4,
   "cells" : [
      {
         "metadata" : {},
         "source" : [
            "## Initialization\n\n"
         ],
         "cell_type" : "markdown"
      },
      {
         "cell_type" : "markdown",
         "source" : [
            "Let&rsquo;s set up our environment.\n\n"
         ],
         "metadata" : {}
      },
      {
         "source" : [
            "import pandas as pd \nimport numpy as np\nimport matplotlib.pyplot as plt\n\ndf = pd.read_csv('galton.csv')"
         ],
         "metadata" : {},
         "outputs" : [],
         "cell_type" : "code",
         "execution_count" : 1
      }
   ],
   "nbformat_minor" : 0,
   "metadata" : {
      "org" : null,
      "kernelspec" : {
         "display_name" : "Python 3",
         "language" : "python",
         "name" : "python3"
      },
      "language_info" : {
         "pygments_lexer" : "ipython3",
         "codemirror_mode" : {
            "version" : 3,
            "name" : "ipython"
         },
         "mimetype" : "text/x-python",
         "name" : "python",
         "file_extension" : ".py",
         "version" : "3.5.2",
         "nbconvert_exporter" : "python"
      }
   }
}
