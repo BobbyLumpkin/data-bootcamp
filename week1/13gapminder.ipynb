{
   "metadata" : {
      "kernelspec" : {
         "language" : "python",
         "name" : "python3",
         "display_name" : "Python 3"
      },
      "language_info" : {
         "codemirror_mode" : {
            "name" : "ipython",
            "version" : 3
         },
         "file_extension" : ".py",
         "version" : "3.5.2",
         "name" : "python",
         "nbconvert_exporter" : "python",
         "pygments_lexer" : "ipython3",
         "mimetype" : "text/x-python"
      },
      "org" : null
   },
   "nbformat_minor" : 0,
   "nbformat" : 4,
   "cells" : [
      {
         "cell_type" : "markdown",
         "source" : [
            "The Gapminder Foundation is a non-profit promoting sustainable global\ndevelopment by increased use and understanding of statistics about\nsocial, economic and environmental development.  They make data\navailable.\n\n"
         ],
         "metadata" : {}
      },
      {
         "metadata" : {},
         "source" : [
            "## Load some data\n\n"
         ],
         "cell_type" : "markdown"
      },
      {
         "metadata" : {},
         "cell_type" : "markdown",
         "source" : [
            "You may have thought that the argument to `read_csv` needed to be a\nfile, but it can also be a URL.  Let&rsquo;s load some gapminder data from a\nGitHub repository.\n\n"
         ]
      },
      {
         "outputs" : [],
         "cell_type" : "code",
         "source" : [
            "import pandas as pd \nimport numpy as np\nimport matplotlib.pyplot as plt\nurl = 'https://raw.githubusercontent.com/resbaz/r-novice-gapminder-files/master/data/gapminder-FiveYearData.csv'\ndf = pd.read_csv(url)"
         ],
         "metadata" : {},
         "execution_count" : 1
      },
      {
         "cell_type" : "markdown",
         "source" : [
            "## Some initial plots\n\n"
         ],
         "metadata" : {}
      },
      {
         "source" : [
            "We could explore GDP per capita versus life expectancy.\n\n"
         ],
         "cell_type" : "markdown",
         "metadata" : {}
      },
      {
         "metadata" : {},
         "execution_count" : 1,
         "outputs" : [],
         "cell_type" : "code",
         "source" : [
            "df.plot.scatter( 'gdpPercap', 'lifeExp' )\nplt.show()"
         ]
      },
      {
         "metadata" : {},
         "source" : [
            "It might be a bit easier to see a football-shaped scatterplot if we\nuse a logarithmic scale on the $x$-axis.\n\n"
         ],
         "cell_type" : "markdown"
      },
      {
         "execution_count" : 1,
         "metadata" : {},
         "source" : [
            "df.plot.scatter( 'gdpPercap', 'lifeExp' )\nplt.xscale('log')\nplt.show()"
         ],
         "cell_type" : "code",
         "outputs" : []
      },
      {
         "metadata" : {},
         "cell_type" : "markdown",
         "source" : [
            "Your ****homework**** for today is to continue exploring this data set.\nWhat questions can you invent?  Use the `pandas` documentation and all\nthe resources at your disposal to dig into the data.\n\n"
         ]
      }
   ]
}
