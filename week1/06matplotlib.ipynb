{
   "nbformat" : 4,
   "cells" : [
      {
         "metadata" : {},
         "cell_type" : "markdown",
         "source" : [
            "In what follows, we&rsquo;ll want to rely on some common packages.  Execute\nthe following cell.\n\n"
         ]
      },
      {
         "cell_type" : "code",
         "source" : [
            "%matplotlib inline\nimport matplotlib.pyplot as plt\nimport math"
         ],
         "execution_count" : 1,
         "outputs" : [],
         "metadata" : {}
      },
      {
         "cell_type" : "markdown",
         "source" : [
            "By importing `matplotlib.pyplot` we gain access to a collection of\nfunctions that make matplotlib work like MATLAB, meaning a &ldquo;state\nmachine&rdquo; in which each pyplot function makes some change to a figure\nlike creating a figure, creating a plotting area in a figure, plotting\nsome lines in a plotting area, decorating the plot with labels, and so\non.\n\nNote that `matplotlib.pyplot` means we are only importing a specific\nmodule from `matplotlib` rather than \\*all~ the modules.\n\n"
         ],
         "metadata" : {}
      },
      {
         "metadata" : {},
         "source" : [
            "## A first plot\n\n"
         ],
         "cell_type" : "markdown"
      },
      {
         "metadata" : {},
         "cell_type" : "markdown",
         "source" : [
            "Let&rsquo;s try making a first plot.\n\n"
         ]
      },
      {
         "metadata" : {},
         "cell_type" : "code",
         "execution_count" : 1,
         "outputs" : [],
         "source" : [
            "plt.plot([1, 2, 4, 9])\nplt.ylabel('a label on the y-axis')\nplt.show()"
         ]
      },
      {
         "source" : [
            "You may be wondering: Why does the $x$-axis range from zero to three?\nIf you provide a single list to the `plot()` command, `matplotlib`\nassumes it is a sequence of $y$ values and automatically generates the\ncorresponding $x$ values for you, using the usual pythonic convention\nthat indexing starts at 0.\n\nTo fix this, try the following:\n\n"
         ],
         "cell_type" : "markdown",
         "metadata" : {}
      },
      {
         "metadata" : {},
         "cell_type" : "code",
         "source" : [
            "plt.plot([1, 2, 3, 4], [1, 2, 4, 9])\nplt.show()"
         ],
         "execution_count" : 1,
         "outputs" : []
      },
      {
         "metadata" : {},
         "source" : [
            "Try plotting sine by executing the following.\n\n"
         ],
         "cell_type" : "markdown"
      },
      {
         "cell_type" : "code",
         "source" : [
            "plt.plot([1, 2, 3, 4, 5, 6], [math.sin(1), math.sin(2), math.sin(3), math.sin(4), math.sin(5), math.sin(6)])\nplt.show()"
         ],
         "outputs" : [],
         "execution_count" : 1,
         "metadata" : {}
      },
      {
         "metadata" : {},
         "source" : [
            "Clearly six points is not enough.  Your task is to make a nicer plot\nof $y = \\sin x$.\n\n"
         ],
         "cell_type" : "markdown"
      }
   ],
   "metadata" : {
      "language_info" : {
         "codemirror_mode" : {
            "name" : "ipython",
            "version" : 3
         },
         "pygments_lexer" : "ipython3",
         "name" : "python",
         "version" : "3.5.2",
         "mimetype" : "text/x-python",
         "nbconvert_exporter" : "python",
         "file_extension" : ".py"
      },
      "kernelspec" : {
         "display_name" : "Python 3",
         "language" : "python",
         "name" : "python3"
      },
      "org" : null
   },
   "nbformat_minor" : 0
}
