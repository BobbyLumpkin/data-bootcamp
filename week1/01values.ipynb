{
   "metadata" : {
      "org" : null,
      "kernelspec" : {
         "name" : "python3",
         "display_name" : "Python 3",
         "language" : "python"
      },
      "language_info" : {
         "name" : "python",
         "version" : "3.5.2",
         "nbconvert_exporter" : "python",
         "mimetype" : "text/x-python",
         "file_extension" : ".py",
         "pygments_lexer" : "ipython3",
         "codemirror_mode" : {
            "name" : "ipython",
            "version" : 3
         }
      }
   },
   "nbformat_minor" : 0,
   "nbformat" : 4,
   "cells" : [
      {
         "source" : [
            "In this Jupyter notebook, you&rsquo;ll meet some of the basic data types in\nPython: numbers, strings, and lists.\n\nBefore executing each cell, take a moment to guess what will happen.\nIf your guess differs from what actually takes place, take the time to\nresolve the cognitive dissonance!\n\n"
         ],
         "metadata" : {},
         "cell_type" : "markdown"
      },
      {
         "cell_type" : "markdown",
         "metadata" : {},
         "source" : [
            "## Numbers\n\n"
         ]
      },
      {
         "source" : [
            "You can treat Jupyter notebooks as the nicest calculator you&rsquo;ve ever owned.\n\n"
         ],
         "metadata" : {},
         "cell_type" : "markdown"
      },
      {
         "source" : [
            "4 * 4 + 1"
         ],
         "outputs" : [],
         "execution_count" : 1,
         "metadata" : {},
         "cell_type" : "code"
      },
      {
         "metadata" : {},
         "cell_type" : "markdown",
         "source" : [
            "You can assign values to variables to use them later.\n\n"
         ]
      },
      {
         "source" : [
            "x = 4\nx * x + 1"
         ],
         "outputs" : [],
         "metadata" : {},
         "execution_count" : 1,
         "cell_type" : "code"
      },
      {
         "cell_type" : "markdown",
         "metadata" : {},
         "source" : [
            "### Types\n\n"
         ]
      },
      {
         "source" : [
            "In Python, a number might be an `int`-eger.\n\n"
         ],
         "metadata" : {},
         "cell_type" : "markdown"
      },
      {
         "execution_count" : 1,
         "metadata" : {},
         "cell_type" : "code",
         "source" : [
            "type(17)"
         ],
         "outputs" : []
      },
      {
         "cell_type" : "markdown",
         "metadata" : {},
         "source" : [
            "A number might have a `float`-ing decimal point.\n\n"
         ]
      },
      {
         "metadata" : {},
         "execution_count" : 1,
         "cell_type" : "code",
         "source" : [
            "type(17.0)"
         ],
         "outputs" : []
      },
      {
         "source" : [
            "What happens when a calculation involving an `int` and an `int` would\nresult in something that isn&rsquo;t an `int`?\n\n"
         ],
         "cell_type" : "markdown",
         "metadata" : {}
      },
      {
         "source" : [
            "17 / 5"
         ],
         "outputs" : [],
         "execution_count" : 1,
         "metadata" : {},
         "cell_type" : "code"
      },
      {
         "source" : [
            "You can check the `type` of a number as follows.\n\n"
         ],
         "metadata" : {},
         "cell_type" : "markdown"
      },
      {
         "cell_type" : "code",
         "execution_count" : 1,
         "metadata" : {},
         "outputs" : [],
         "source" : [
            "type(17 / 5)"
         ]
      },
      {
         "cell_type" : "markdown",
         "metadata" : {},
         "source" : [
            "### More division\n\n"
         ]
      },
      {
         "metadata" : {},
         "execution_count" : 1,
         "cell_type" : "code",
         "source" : [
            "type(17 / 5)"
         ],
         "outputs" : []
      },
      {
         "metadata" : {},
         "cell_type" : "markdown",
         "source" : [
            "What if you instead use `//`?\n\n"
         ]
      },
      {
         "execution_count" : 1,
         "metadata" : {},
         "cell_type" : "code",
         "source" : [
            "17 // 5"
         ],
         "outputs" : []
      },
      {
         "metadata" : {},
         "cell_type" : "markdown",
         "source" : [
            "We refer to `//` as *floor division*.\n\n"
         ]
      },
      {
         "cell_type" : "code",
         "execution_count" : 1,
         "metadata" : {},
         "outputs" : [],
         "source" : [
            "17 % 5"
         ]
      },
      {
         "source" : [
            "What name would we give to `%`?  The percent sign has a slash in it,\nso perhaps it has something to do with division.\n\n"
         ],
         "metadata" : {},
         "cell_type" : "markdown"
      },
      {
         "cell_type" : "markdown",
         "metadata" : {},
         "source" : [
            "### Misconceptions\n\n"
         ]
      },
      {
         "source" : [
            "A common misconception arises with the following notation.\n\n"
         ],
         "metadata" : {},
         "cell_type" : "markdown"
      },
      {
         "outputs" : [],
         "source" : [
            "17^5"
         ],
         "cell_type" : "code",
         "execution_count" : 1,
         "metadata" : {}
      },
      {
         "source" : [
            "Try `17**5` instead.  What operation does `^` denote?\n\n"
         ],
         "metadata" : {},
         "cell_type" : "markdown"
      },
      {
         "metadata" : {},
         "cell_type" : "markdown",
         "source" : [
            "### Who is afraid of floating point arithmetic?\n\n"
         ]
      },
      {
         "cell_type" : "markdown",
         "metadata" : {},
         "source" : [
            "Are you worried generally about floating point arithmetic?\n\n"
         ]
      },
      {
         "outputs" : [],
         "source" : [
            "one = 0.35 + 0.30 + 0.35\none == 1.0"
         ],
         "cell_type" : "code",
         "execution_count" : 1,
         "metadata" : {}
      },
      {
         "cell_type" : "markdown",
         "metadata" : {},
         "source" : [
            "How ought *one* generally deal with situations like the above?\n\n"
         ]
      },
      {
         "metadata" : {},
         "cell_type" : "markdown",
         "source" : [
            "## Strings\n\n"
         ]
      },
      {
         "source" : [
            "Not all data is numeric.  Think of a &ldquo;string&rdquo; of characters like beads\non a string.  You can `print` a string.\n\n"
         ],
         "cell_type" : "markdown",
         "metadata" : {}
      },
      {
         "outputs" : [],
         "source" : [
            "multiline = 'Use backspace n like this\\nto insert a newline'\nprint(multiline)"
         ],
         "cell_type" : "code",
         "metadata" : {},
         "execution_count" : 1
      },
      {
         "metadata" : {},
         "cell_type" : "markdown",
         "source" : [
            "### Length\n\n"
         ]
      },
      {
         "metadata" : {},
         "cell_type" : "markdown",
         "source" : [
            "Can you guess what the function `len` does?\n\n"
         ]
      },
      {
         "cell_type" : "code",
         "metadata" : {},
         "execution_count" : 1,
         "outputs" : [],
         "source" : [
            "big = 'gigantic'\nlen(big)"
         ]
      },
      {
         "source" : [
            "### Concatenation\n\n"
         ],
         "metadata" : {},
         "cell_type" : "markdown"
      },
      {
         "outputs" : [],
         "source" : [
            "'concat' + 'enation'"
         ],
         "cell_type" : "code",
         "metadata" : {},
         "execution_count" : 1
      },
      {
         "source" : [
            "### Replace\n\n"
         ],
         "metadata" : {},
         "cell_type" : "markdown"
      },
      {
         "source" : [
            "Python is &ldquo;object-oriented&rdquo; and like many such languages, &ldquo;methods&rdquo;\nare called on objects using dot notation.  Below we call `replace` on\nthe string `x`.\n\n"
         ],
         "metadata" : {},
         "cell_type" : "markdown"
      },
      {
         "execution_count" : 1,
         "metadata" : {},
         "cell_type" : "code",
         "source" : [
            "x = 'the input'\nx.replace('in', 'out')"
         ],
         "outputs" : []
      },
      {
         "source" : [
            "****A common misconception.**** What is the output of the code below?\nMake sure to make your guess before executing the cell.\n\n"
         ],
         "cell_type" : "markdown",
         "metadata" : {}
      },
      {
         "cell_type" : "code",
         "execution_count" : 1,
         "metadata" : {},
         "outputs" : [],
         "source" : [
            "x = 'the input'\nx.replace('in', 'out')\nprint(x)"
         ]
      },
      {
         "cell_type" : "markdown",
         "metadata" : {},
         "source" : [
            "### Strip\n\n"
         ]
      },
      {
         "source" : [
            "Much of data science involves *cleaning* poorly formatted data.  One\nmethod useful for this task is `strip` but can you describe what it\ndoes?\n\n"
         ],
         "metadata" : {},
         "cell_type" : "markdown"
      },
      {
         "outputs" : [],
         "source" : [
            "data = '   \\n \\n    some data  \\n \\n \\n    \\n '\ndata.strip()"
         ],
         "cell_type" : "code",
         "execution_count" : 1,
         "metadata" : {}
      },
      {
         "source" : [
            "Check your guess on the meaning of `strip` by predicting what the\nfollowing cell evaluates to.\n\n"
         ],
         "cell_type" : "markdown",
         "metadata" : {}
      },
      {
         "cell_type" : "code",
         "execution_count" : 1,
         "metadata" : {},
         "outputs" : [],
         "source" : [
            "more_data = '   \\n \\n    some\\nmore\\ndata  \\n \\n \\n    \\n '\nmore_data.strip()"
         ]
      },
      {
         "metadata" : {},
         "cell_type" : "markdown",
         "source" : [
            "### Format\n\n"
         ]
      },
      {
         "cell_type" : "markdown",
         "metadata" : {},
         "source" : [
            "You can use the `format` method to produce output.\n\n"
         ]
      },
      {
         "outputs" : [],
         "source" : [
            "'build {} strings with {}'.format('complicated', 'format')"
         ],
         "cell_type" : "code",
         "execution_count" : 1,
         "metadata" : {}
      },
      {
         "cell_type" : "markdown",
         "metadata" : {},
         "source" : [
            "You can also use named arguments.\n\n"
         ]
      },
      {
         "execution_count" : 1,
         "metadata" : {},
         "cell_type" : "code",
         "source" : [
            "'A {animal} is a {animal} of course.  His name is Mister {name}.'.format(animal='horse', name='Ed')"
         ],
         "outputs" : []
      },
      {
         "source" : [
            "## Lists\n\n"
         ],
         "metadata" : {},
         "cell_type" : "markdown"
      },
      {
         "source" : [
            "In Python, we produce lists of values with `[` and `]`.\n\n"
         ],
         "cell_type" : "markdown",
         "metadata" : {}
      },
      {
         "metadata" : {},
         "cell_type" : "markdown",
         "source" : [
            "### Building lists\n\n"
         ]
      },
      {
         "outputs" : [],
         "source" : [
            "xs = [2, 5, 17]\nlen(xs)"
         ],
         "cell_type" : "code",
         "execution_count" : 1,
         "metadata" : {}
      },
      {
         "source" : [
            "There is also the empty list.\n\n"
         ],
         "cell_type" : "markdown",
         "metadata" : {}
      },
      {
         "outputs" : [],
         "source" : [
            "empty = []\nlen(empty)"
         ],
         "cell_type" : "code",
         "execution_count" : 1,
         "metadata" : {}
      },
      {
         "source" : [
            "Unlike in some languages, you can mix together various values of\ndiffering `type` in your lists.\n\n"
         ],
         "metadata" : {},
         "cell_type" : "markdown"
      },
      {
         "outputs" : [],
         "source" : [
            "[4,'things that are', ['different'], 0.1]"
         ],
         "cell_type" : "code",
         "execution_count" : 1,
         "metadata" : {}
      },
      {
         "source" : [
            "Note that your lists can contain lists!\n\n"
         ],
         "metadata" : {},
         "cell_type" : "markdown"
      },
      {
         "source" : [
            "[[9, 5, 1], [6, 5], [0, 9, 4, 5], [3, 7, 5]]"
         ],
         "outputs" : [],
         "metadata" : {},
         "execution_count" : 1,
         "cell_type" : "code"
      },
      {
         "cell_type" : "markdown",
         "metadata" : {},
         "source" : [
            "### Accessing entries\n\n"
         ]
      },
      {
         "source" : [
            "In the list `xs`, reference the `index` entry with `xs[index]`.  Try\nthe code below.  Do you expect to see a 4 or an 8?\n\n"
         ],
         "metadata" : {},
         "cell_type" : "markdown"
      },
      {
         "source" : [
            "xs = [1, 2, 4, 8, 16, 32, 64]\nxs[3]"
         ],
         "outputs" : [],
         "execution_count" : 1,
         "metadata" : {},
         "cell_type" : "code"
      },
      {
         "source" : [
            "Can you guess what the output of the cell below?\n\n"
         ],
         "metadata" : {},
         "cell_type" : "markdown"
      },
      {
         "outputs" : [],
         "source" : [
            "xs = [[9, 5, 1], [6, 5], [0, 9, 4, 5], [3, 7, 5]]\nxs[2][3]"
         ],
         "cell_type" : "code",
         "metadata" : {},
         "execution_count" : 1
      },
      {
         "source" : [
            "### Modifying entries\n\n"
         ],
         "metadata" : {},
         "cell_type" : "markdown"
      },
      {
         "metadata" : {},
         "cell_type" : "markdown",
         "source" : [
            "You can modify lists by placing `xs[index]` on the left-hand side of an assignment.\n\n"
         ]
      },
      {
         "cell_type" : "code",
         "metadata" : {},
         "execution_count" : 1,
         "outputs" : [],
         "source" : [
            "xs = [5, 8, 2, 4]\nxs[1] = 3\nprint(xs)"
         ]
      },
      {
         "metadata" : {},
         "cell_type" : "markdown",
         "source" : [
            "Sometimes students misunderstand the effect of the code below.  Can\nyou guess what will be printed?  If you are right, can you explain\nwhy?\n\n"
         ]
      },
      {
         "source" : [
            "xs = [5, 8, 2, 4]\nys = xs\nxs[1] = 3\nprint(ys)"
         ],
         "outputs" : [],
         "execution_count" : 1,
         "metadata" : {},
         "cell_type" : "code"
      },
      {
         "metadata" : {},
         "cell_type" : "markdown",
         "source" : [
            "### Methods\n\n"
         ]
      },
      {
         "cell_type" : "markdown",
         "metadata" : {},
         "source" : [
            "Add new values to the end of a list with `append`.\n\n"
         ]
      },
      {
         "outputs" : [],
         "source" : [
            "xs = [0, 2, 4, 6]\nxs.append(8)\nprint(xs)"
         ],
         "cell_type" : "code",
         "metadata" : {},
         "execution_count" : 1
      },
      {
         "source" : [
            "Can you remove entries with `remove`.\n\n"
         ],
         "cell_type" : "markdown",
         "metadata" : {}
      },
      {
         "outputs" : [],
         "source" : [
            "xs = [0, 2, 4, 6]\nxs.remove(4)\nprint(xs)"
         ],
         "cell_type" : "code",
         "metadata" : {},
         "execution_count" : 1
      },
      {
         "source" : [
            "### Sorting lists\n\n"
         ],
         "metadata" : {},
         "cell_type" : "markdown"
      },
      {
         "execution_count" : 1,
         "metadata" : {},
         "cell_type" : "code",
         "source" : [
            "sorted([4, 3, 3, 7, 2, 7, 7, 2, 10, 6])"
         ],
         "outputs" : []
      },
      {
         "cell_type" : "markdown",
         "metadata" : {},
         "source" : [
            "There is also a `sort` method.\n\n"
         ]
      },
      {
         "cell_type" : "code",
         "metadata" : {},
         "execution_count" : 1,
         "outputs" : [],
         "source" : [
            "x = [4, 3, 3, 7, 2, 7, 7, 2, 10, 6]\nx.sort()\nx"
         ]
      },
      {
         "metadata" : {},
         "cell_type" : "markdown",
         "source" : [
            "There is a mistake in the code below.  Can you fix it?\n\n"
         ]
      },
      {
         "source" : [
            "x = [4, 3, 3, 7, 2, 7, 7, 2, 10, 6]\nprint(x.sort())"
         ],
         "outputs" : [],
         "execution_count" : 1,
         "metadata" : {},
         "cell_type" : "code"
      },
      {
         "cell_type" : "markdown",
         "metadata" : {},
         "source" : [
            "## Lists and strings\n\n"
         ]
      },
      {
         "metadata" : {},
         "cell_type" : "markdown",
         "source" : [
            "The expressive power of any language, including programming languages,\narises because the various pieces of the language are *composable* and\nrelated to each other in complicated way.  How do lists and strings\nrelate?\n\n"
         ]
      },
      {
         "cell_type" : "markdown",
         "metadata" : {},
         "source" : [
            "### From lists to strings\n\n"
         ]
      },
      {
         "execution_count" : 1,
         "metadata" : {},
         "cell_type" : "code",
         "source" : [
            "animals = ['cat', 'dog', 'cow', 'python']\n', '.join(animals)"
         ],
         "outputs" : []
      },
      {
         "metadata" : {},
         "cell_type" : "markdown",
         "source" : [
            "### From strings to lists\n\n"
         ]
      },
      {
         "cell_type" : "code",
         "metadata" : {},
         "execution_count" : 1,
         "outputs" : [],
         "source" : [
            "sentence = 'This is a string of words but I want a list.'\nsentence.split()"
         ]
      }
   ]
}
