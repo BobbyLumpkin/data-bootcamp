{
   "nbformat_minor" : 0,
   "cells" : [
      {
         "cell_type" : "markdown",
         "metadata" : {},
         "source" : [
            "## Working with paths\n\n"
         ]
      },
      {
         "source" : [
            "Note the mysterious `import os` which &ldquo;imports&rdquo; some additional\nfunctions for us.  In the future, we will `import` other Python\npackages.\n\n"
         ],
         "metadata" : {},
         "cell_type" : "markdown"
      },
      {
         "metadata" : {},
         "source" : [
            "import os\nnotebook = os.path.realpath('05files.ipynb')\nprint('current file: {}'.format(notebook))\nnotebook_path = os.path.dirname(notebook)  \nprint('current directory: {}'.format(notebook_path))"
         ],
         "outputs" : [],
         "execution_count" : 1,
         "cell_type" : "code"
      },
      {
         "cell_type" : "markdown",
         "source" : [
            "****Warning:**** Outside of Jupyter notebooks, we would get the path of\ncurrent file via `__file__`.\n\n"
         ],
         "metadata" : {}
      },
      {
         "metadata" : {},
         "source" : [
            "## Reading files\n\n"
         ],
         "cell_type" : "markdown"
      },
      {
         "cell_type" : "markdown",
         "metadata" : {},
         "source" : [
            "In `d6.txt`, I have placed 250 throws of a six-sided die.  Let&rsquo;s print them.\n\n"
         ]
      },
      {
         "cell_type" : "code",
         "outputs" : [],
         "source" : [
            "file_path = os.path.join(notebook_path, 'd6.txt')\n\nwith open(file_path, 'r') as f:\n    for line in f:\n        print(line.strip())"
         ],
         "metadata" : {},
         "execution_count" : 1
      },
      {
         "source" : [
            "Note the use of `with` which guarantees that `f.close()` is called\nafter the end of the `with` stanza.\n\nCan you perform some simple statistics on the data in `d6.txt`?  How\nmany times was a 1 thrown?\n\n"
         ],
         "metadata" : {},
         "cell_type" : "markdown"
      },
      {
         "source" : [
            "## Writing files\n\n"
         ],
         "metadata" : {},
         "cell_type" : "markdown"
      },
      {
         "cell_type" : "markdown",
         "source" : [
            "Try creating a new file called `hello.txt` and writing a string to it.\n\n"
         ],
         "metadata" : {}
      },
      {
         "cell_type" : "code",
         "outputs" : [],
         "source" : [
            "hello_path = os.path.join(notebook_path, 'hello.txt')\n\nwith open(hello_path, 'w') as f:\n    f.write('Hello, world!')"
         ],
         "metadata" : {},
         "execution_count" : 1
      },
      {
         "cell_type" : "markdown",
         "metadata" : {},
         "source" : [
            "After you run this code, check that the file now exists.\n\n"
         ]
      }
   ],
   "metadata" : {
      "language_info" : {
         "name" : "python",
         "version" : "3.5.2",
         "pygments_lexer" : "ipython3",
         "nbconvert_exporter" : "python",
         "file_extension" : ".py",
         "mimetype" : "text/x-python",
         "codemirror_mode" : {
            "version" : 3,
            "name" : "ipython"
         }
      },
      "org" : null,
      "kernelspec" : {
         "name" : "python3",
         "display_name" : "Python 3",
         "language" : "python"
      }
   },
   "nbformat" : 4
}
